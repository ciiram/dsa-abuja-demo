{
 "cells": [
  {
   "cell_type": "markdown",
   "metadata": {},
   "source": [
    "# Coffee Farm Condition Monitoring\n",
    "\n",
    "This notebook provides code to analyze data collected using sensors deployed at the Dedan Kimathi University of Technology Coffee farm and display it for visual inspection.\n",
    "\n",
    "We have deployed the following sensors\n",
    "1. Ambient Temperature\n",
    "1. Relative Humidity\n",
    "1. Soil Temperature \n",
    "1. Soil Moisture\n",
    "\n",
    "The aim is to use these data to help plan farming activities such as irrigation and fungicide application.\n",
    "\n",
    "The sensors are connected to a [Nucleo F446re](https://os.mbed.com/platforms/ST-Nucleo-F446RE/) development board running code contained in this [repo](https://github.com/ciiram/nyeri-coffee)."
   ]
  },
  {
   "cell_type": "code",
   "execution_count": null,
   "metadata": {
    "collapsed": true
   },
   "outputs": [],
   "source": [
    "%matplotlib inline\n",
    "import pandas as pd\n",
    "from pandas import DataFrame, Series\n",
    "import matplotlib.pyplot as plt\n",
    "from pandas.io.json import json_normalize\n",
    "from datetime import datetime, timedelta"
   ]
  },
  {
   "cell_type": "markdown",
   "metadata": {},
   "source": [
    "## Plots of Ambient and Soil Temperature in The Initial Deployment"
   ]
  },
  {
   "cell_type": "code",
   "execution_count": null,
   "metadata": {
    "collapsed": true
   },
   "outputs": [],
   "source": [
    "#load the data\n",
    "df = pd.read_csv('data/2018-09-30-Data.csv')\n",
    "\n",
    "# convert data type of time to datetime\n",
    "df[['_source.time']] = df[['_source.time']].apply(pd.to_datetime)\n",
    "\n",
    "# we are interested in time, ambient temperature and humidity, and soil temperature and humidity\n",
    "df_coffee_farm = df[['_source.time','_source.dev_id','_source.temperature_2', '_source.relative_humidity_3', '_source.analog_in_4', '_source.analog_in_5']]\n",
    "df_coffee_farm.columns = ['time','dev_id','Ambient Temperature', 'Relative Humidity', 'Soil Temperature', 'Soil Moisture']\n",
    "\n",
    "# sorting based on time\n",
    "df_coffee_farm.sort_values(by='time');\n"
   ]
  },
  {
   "cell_type": "code",
   "execution_count": null,
   "metadata": {},
   "outputs": [],
   "source": [
    "for dev_name, gdf in df_coffee_farm.groupby('dev_id'):\n",
    "        plt.figure()\n",
    "        plt.title(dev_name)\n",
    "        plt.plot(gdf.time + timedelta(hours=3), gdf['Ambient Temperature'],'bo')\n",
    "        plt.plot(gdf.time + timedelta(hours=3), gdf['Soil Temperature'],'go')\n",
    "        plt.legend(['Ambient Temperature', 'Soil Temperature']);\n",
    "        plt.xticks(rotation=45);\n",
    "        plt.ylim([0, 50]);\n",
    "        plt.xlabel('Time');\n",
    "        plt.ylabel('Temperature (Celcius)');\n",
    "        plt.tight_layout()"
   ]
  },
  {
   "cell_type": "markdown",
   "metadata": {},
   "source": [
    "## Second Deployment"
   ]
  },
  {
   "cell_type": "code",
   "execution_count": null,
   "metadata": {},
   "outputs": [],
   "source": [
    "#load the data\n",
    "ambient_temperature_df = pd.read_csv('data/ambient_temperature.csv', sep=\";\")\n",
    "soil_temperature_df = pd.read_csv('data/soil_temperature.csv', sep=\";\")\n",
    "soil_moisture_df = pd.read_csv('data/soil_moisture.csv', sep=\";\")\n",
    "\n",
    "# convert data type of time to datetime and value to numeric\n",
    "data_frames = [ambient_temperature_df, soil_temperature_df, soil_moisture_df]\n",
    "\n",
    "for df in data_frames:\n",
    "    df[['Time']] = df[['Time']].apply(pd.to_datetime)\n",
    "    df[['Value']] = pd.to_numeric(df['Value'], errors='coerce')\n",
    "\n",
    "plt.figure()\n",
    "plt.plot(ambient_temperature_df[['Time']], ambient_temperature_df[['Value']], 'bo');\n",
    "plt.plot(soil_temperature_df[['Time']], soil_temperature_df[['Value']], 'go');\n",
    "plt.xticks(rotation=45);\n",
    "plt.ylim([5, 30]);\n",
    "plt.xlabel('Time');\n",
    "plt.ylabel('Temperature (Celcius)');\n",
    "\n",
    "plt.figure()\n",
    "plt.plot(soil_moisture_df[['Time']], soil_moisture_df[['Value']], 'bo');\n",
    "plt.xticks(rotation=45);\n",
    "plt.ylim([-5, 100]);\n",
    "plt.xlabel('Time');\n",
    "plt.ylabel('Soil Moisture (%)');\n"
   ]
  },
  {
   "cell_type": "markdown",
   "metadata": {},
   "source": [
    "## Modelling\n",
    "\n",
    "We will experiment with curve fitting using the data we have collected. We will fit Gaussian process models with various kernels and assess the fits."
   ]
  },
  {
   "cell_type": "code",
   "execution_count": null,
   "metadata": {},
   "outputs": [],
   "source": [
    "import GPy\n",
    "import numpy as np\n",
    "from IPython.display import display\n",
    "\n",
    "#prepare the data\n",
    "temperature = ambient_temperature_df.values[:,2]\n",
    "time_day = np.arange(len(temperature)) / 24 # normalize to days\n",
    "\n",
    "time_day = time_day[~pd.isnull(temperature)]\n",
    "temperature = temperature[~pd.isnull(temperature)]\n",
    "\n",
    "\n",
    "#RBF Kernel\n",
    "kernel = GPy.kern.RBF(input_dim=1, variance=1., lengthscale=1.)\n",
    "m = GPy.models.GPRegression(time_day[:, None],temperature[:, None],kernel)\n",
    "m.optimize_restarts(num_restarts = 10)\n",
    "display(m)\n"
   ]
  },
  {
   "cell_type": "code",
   "execution_count": null,
   "metadata": {},
   "outputs": [],
   "source": [
    "display(m)\n",
    "fig = m.plot(plot_density=True)\n",
    "GPy.plotting.show(fig, filename='rbf_fit');"
   ]
  },
  {
   "cell_type": "markdown",
   "metadata": {},
   "source": [
    "We now try a periodic kernel on the same data."
   ]
  },
  {
   "cell_type": "code",
   "execution_count": null,
   "metadata": {},
   "outputs": [],
   "source": [
    "kernel = GPy.kern.PeriodicMatern32(input_dim=1, variance=1., lengthscale=1., period=1.)\n",
    "m = GPy.models.GPRegression(time_day[:, None],temperature[:, None],kernel)\n",
    "m.optimize_restarts(num_restarts = 10)"
   ]
  },
  {
   "cell_type": "code",
   "execution_count": null,
   "metadata": {},
   "outputs": [],
   "source": [
    "display(m)\n",
    "fig = m.plot(plot_density=True)\n",
    "GPy.plotting.show(fig, filename='periodic_kernel');"
   ]
  },
  {
   "cell_type": "markdown",
   "metadata": {},
   "source": [
    "We need to add bias.\n",
    "\n"
   ]
  },
  {
   "cell_type": "code",
   "execution_count": null,
   "metadata": {
    "collapsed": true
   },
   "outputs": [],
   "source": [
    "GPy.kern.Bias?"
   ]
  },
  {
   "cell_type": "code",
   "execution_count": null,
   "metadata": {},
   "outputs": [],
   "source": [
    "kern2 = GPy.kern.Bias(1)\n",
    "\n",
    "m = GPy.models.GPRegression(time_day[:, None],temperature[:, None],kernel + kern2)\n",
    "m.optimize_restarts(num_restarts = 20)\n",
    "\n",
    "display(m)\n",
    "fig = m.plot(plot_density=True)\n",
    "GPy.plotting.show(fig, filename='periodic_with_bias');"
   ]
  },
  {
   "cell_type": "code",
   "execution_count": null,
   "metadata": {
    "collapsed": true
   },
   "outputs": [],
   "source": []
  }
 ],
 "metadata": {
  "kernelspec": {
   "display_name": "Python 3",
   "language": "python",
   "name": "python3"
  },
  "language_info": {
   "codemirror_mode": {
    "name": "ipython",
    "version": 3
   },
   "file_extension": ".py",
   "mimetype": "text/x-python",
   "name": "python",
   "nbconvert_exporter": "python",
   "pygments_lexer": "ipython3",
   "version": "3.6.1"
  }
 },
 "nbformat": 4,
 "nbformat_minor": 2
}
