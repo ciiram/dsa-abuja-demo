{
 "cells": [
  {
   "cell_type": "markdown",
   "metadata": {},
   "source": [
    "# Coffee Farm Condition Monitoring\n",
    "\n",
    "<img src=\"images/farm_landscape.jpeg\" alt=\"farm\" width=\"600\"/>\n",
    "\n",
    "This notebook provides code to analyze data collected using sensors deployed at the Dedan Kimathi University of Technology Coffee farm and display it for visual inspection.\n",
    "\n",
    "We have deployed the following sensors\n",
    "1. Ambient Temperature\n",
    "1. Relative Humidity\n",
    "1. Soil Temperature \n",
    "1. Soil Moisture\n",
    "\n",
    "The aim is to use these data to help plan farming activities such as irrigation and fungicide application.\n",
    "\n",
    "The sensors are connected to a [Nucleo F446re](https://os.mbed.com/platforms/ST-Nucleo-F446RE/) development board running code contained in this [repo](https://github.com/ciiram/nyeri-coffee).\n",
    "\n",
    "## Requirements\n",
    "\n",
    "1. [pandas](https://pandas.pydata.org/)\n",
    "1. [matplotlib](https://matplotlib.org/)\n",
    "1. [GPy](https://sheffieldml.github.io/GPy/)"
   ]
  },
  {
   "cell_type": "code",
   "execution_count": null,
   "metadata": {
    "collapsed": true
   },
   "outputs": [],
   "source": [
    "%matplotlib inline\n",
    "import pandas as pd\n",
    "from pandas import DataFrame, Series\n",
    "import matplotlib.pyplot as plt\n",
    "from pandas.io.json import json_normalize\n",
    "from datetime import datetime, timedelta"
   ]
  },
  {
   "cell_type": "markdown",
   "metadata": {},
   "source": [
    "## Plots of Ambient Temperature in The Initial Deployment\n",
    "\n",
    "We will examine plots of ambient temperature recorded by three devices in the farm in September 2018."
   ]
  },
  {
   "cell_type": "code",
   "execution_count": null,
   "metadata": {
    "collapsed": true
   },
   "outputs": [],
   "source": [
    "#load the data\n",
    "df = pd.read_csv('data/2018-09-30-Data.csv')\n",
    "\n",
    "# convert data type of time to datetime\n",
    "df[['_source.time']] = df[['_source.time']].apply(pd.to_datetime)\n",
    "\n",
    "# we are interested in time, ambient temperature and humidity, and soil temperature and humidity\n",
    "df_coffee_farm = df[['_source.time','_source.dev_id','_source.temperature_2', '_source.relative_humidity_3', '_source.analog_in_4', '_source.analog_in_5']]\n",
    "df_coffee_farm.columns = ['time','dev_id','Ambient Temperature', 'Relative Humidity', 'Soil Temperature', 'Soil Moisture']\n",
    "\n",
    "# sorting based on time\n",
    "df_coffee_farm.sort_values(by='time');\n"
   ]
  },
  {
   "cell_type": "code",
   "execution_count": null,
   "metadata": {},
   "outputs": [],
   "source": [
    "#plots for various devices\n",
    "for dev_name, gdf in df_coffee_farm.groupby('dev_id'):\n",
    "        plt.figure()\n",
    "        plt.title(dev_name)\n",
    "        plt.plot(gdf.time + timedelta(hours=3), gdf['Ambient Temperature'],'bo') # correction for time zone\n",
    "        plt.legend(['Ambient Temperature', 'Soil Temperature']);\n",
    "        plt.xticks(rotation=45);\n",
    "        plt.ylim([0, 50]);\n",
    "        plt.xlabel('Time');\n",
    "        plt.ylabel('Temperature (Celcius)');\n",
    "        plt.tight_layout()\n",
    "        plt.savefig('../figures/' + dev_name + '.jpg', dpi=300)"
   ]
  },
  {
   "cell_type": "markdown",
   "metadata": {},
   "source": [
    "## Second Deployment\n",
    "\n",
    "In a second deployment, we monitored ambient and soil temperature as well as soil moisture. Our deployment coincided with the onset of the rainy season and a jump in the moiture level is noticed. Also, on the 9th of October the battery failed and this can be seen in the data from the soil temperature and moisture sensors is unreliable. Also, the soil temperature sensor appears noisy."
   ]
  },
  {
   "cell_type": "code",
   "execution_count": null,
   "metadata": {},
   "outputs": [],
   "source": [
    "#load the data\n",
    "ambient_temperature_df = pd.read_csv('data/ambient_temperature.csv', sep=\";\")\n",
    "soil_temperature_df = pd.read_csv('data/soil_temperature.csv', sep=\";\")\n",
    "soil_moisture_df = pd.read_csv('data/soil_moisture.csv', sep=\";\")\n",
    "\n",
    "# convert data type of time to datetime and value to numeric\n",
    "data_frames = [ambient_temperature_df, soil_temperature_df, soil_moisture_df]\n",
    "\n",
    "for df in data_frames:\n",
    "    df[['Time']] = df[['Time']].apply(pd.to_datetime)\n",
    "    df[['Value']] = pd.to_numeric(df['Value'], errors='coerce')\n",
    "\n",
    "plt.figure()\n",
    "plt.plot(ambient_temperature_df[['Time']], ambient_temperature_df[['Value']], 'bo');\n",
    "plt.xticks(rotation=45);\n",
    "plt.ylim([5, 30]);\n",
    "plt.xlabel('Time');\n",
    "plt.ylabel('Ambient Temperature (Celcius)');\n",
    "\n",
    "plt.figure()\n",
    "plt.plot(soil_temperature_df[['Time']], soil_temperature_df[['Value']], 'go');\n",
    "plt.xticks(rotation=45);\n",
    "plt.ylim([5, 30]);\n",
    "plt.xlabel('Time');\n",
    "plt.ylabel('Soil Temperature (Celcius)');\n",
    "\n",
    "plt.figure()\n",
    "plt.plot(soil_moisture_df[['Time']], soil_moisture_df[['Value']], 'bo');\n",
    "plt.xticks(rotation=45);\n",
    "plt.ylim([-5, 100]);\n",
    "plt.xlabel('Time');\n",
    "plt.ylabel('Soil Moisture (%)');\n"
   ]
  },
  {
   "cell_type": "markdown",
   "metadata": {},
   "source": [
    "## Modelling\n",
    "\n",
    "We will experiment with curve fitting using the data we have collected. We will fit Gaussian process models with various kernels and assess the fits. We will work with the temperature data from *aws-dev-02*."
   ]
  },
  {
   "cell_type": "code",
   "execution_count": null,
   "metadata": {},
   "outputs": [],
   "source": [
    "import GPy\n",
    "import numpy as np\n",
    "from IPython.display import display\n",
    "\n",
    "#prepare the data\n",
    "dev_groups = df_coffee_farm.groupby('dev_id')\n",
    "\n",
    "# get data corresponding to device 2\n",
    "device_2 = [grp for name, grp in dev_groups][1] \n",
    "device_2 = device_2.sort_values(by='time');\n",
    "\n",
    "#get the temperature and time\n",
    "temperature = device_2.values[:,2]\n",
    "time_day = [value.timestamp() for value in device_2.values[:,0]] # get the timestamps\n",
    "time_day = np.array(time_day)\n",
    "\n",
    "#normalize to days\n",
    "time_day = time_day - min(time_day)\n",
    "time_day /= (24 * 60 * 60)\n",
    "\n",
    "# get the first 7 days\n",
    "temperature = temperature[time_day < 7]\n",
    "time_day = time_day[time_day < 7]\n"
   ]
  },
  {
   "cell_type": "markdown",
   "metadata": {},
   "source": [
    "We visualise the data"
   ]
  },
  {
   "cell_type": "code",
   "execution_count": null,
   "metadata": {},
   "outputs": [],
   "source": [
    "plt.figure()\n",
    "plt.plot(time_day, temperature, 'bo')\n",
    "plt.xlim([-.5,7])\n",
    "plt.ylim([0, 30])\n",
    "plt.xlabel('Time (days)');\n",
    "plt.ylabel('Temperature (Celcius)');"
   ]
  },
  {
   "cell_type": "markdown",
   "metadata": {},
   "source": [
    "We fit a Gaussian process with a radial basis function kernel. (If the optimization fails, simply restart it.)"
   ]
  },
  {
   "cell_type": "code",
   "execution_count": null,
   "metadata": {},
   "outputs": [],
   "source": [
    "#RBF Kernel\n",
    "kernel = GPy.kern.RBF(input_dim=1, variance=1., lengthscale=1.)\n",
    "m = GPy.models.GPRegression(time_day[:, None],temperature[:, None],kernel)\n",
    "m.optimize_restarts(num_restarts = 10)\n",
    "display(m)"
   ]
  },
  {
   "cell_type": "markdown",
   "metadata": {},
   "source": [
    "Let's plot the fit"
   ]
  },
  {
   "cell_type": "code",
   "execution_count": null,
   "metadata": {},
   "outputs": [],
   "source": [
    "plt.figure()\n",
    "m.plot();\n",
    "plt.ylim([-30, 50]);\n",
    "plt.xlabel('Time (days)');\n",
    "plt.ylabel('Temperature (Celcius)');"
   ]
  },
  {
   "cell_type": "markdown",
   "metadata": {},
   "source": [
    "The fit with the RBF kernel does not do a good job of filling in the missing data. In the region without data, the posterior fit is similar to the prior which results in the interpolant passing through zero. It is never that cold in Nyeri!\n",
    "\n",
    "We now try a periodic kernel on the same data which takes into account the observation that temperature variations are periodic. (If the optimization fails, simply restart it.)"
   ]
  },
  {
   "cell_type": "code",
   "execution_count": null,
   "metadata": {},
   "outputs": [],
   "source": [
    "periodic_kernel = GPy.kern.PeriodicMatern32(input_dim=1, variance=1., lengthscale=1., period=1.)\n",
    "m = GPy.models.GPRegression(time_day[:, None],temperature[:, None], periodic_kernel)\n",
    "m.optimize_restarts(num_restarts = 10)"
   ]
  },
  {
   "cell_type": "code",
   "execution_count": null,
   "metadata": {},
   "outputs": [],
   "source": [
    "plt.figure()\n",
    "m.plot();\n",
    "plt.ylim([-30, 50]);\n",
    "plt.xlabel('Time (days)');\n",
    "plt.ylabel('Temperature (Celcius)');"
   ]
  },
  {
   "cell_type": "markdown",
   "metadata": {},
   "source": [
    "The fit is still not good. The prior with a zero mean does not fit the data.\n",
    "We need to add bias. (If the optimization fails, simply restart it.)\n",
    "\n"
   ]
  },
  {
   "cell_type": "code",
   "execution_count": null,
   "metadata": {},
   "outputs": [],
   "source": [
    "kernel_bias = GPy.kern.Bias(1)\n",
    "\n",
    "m = GPy.models.GPRegression(time_day[:, None],temperature[:, None], periodic_kernel + kernel_bias)\n",
    "m.optimize_restarts(num_restarts = 20)\n",
    "\n",
    "# plot the fit\n",
    "plt.figure()\n",
    "m.plot();\n",
    "plt.ylim([-30, 50]);\n",
    "plt.xlabel('Time (days)');\n",
    "plt.ylabel('Temperature (Celcius)');"
   ]
  },
  {
   "cell_type": "markdown",
   "metadata": {},
   "source": [
    "This is a much better fit and the predicted values in the region with missing data is quite reasonable.\n"
   ]
  }
 ],
 "metadata": {
  "kernelspec": {
   "display_name": "Python 3",
   "language": "python",
   "name": "python3"
  },
  "language_info": {
   "codemirror_mode": {
    "name": "ipython",
    "version": 3
   },
   "file_extension": ".py",
   "mimetype": "text/x-python",
   "name": "python",
   "nbconvert_exporter": "python",
   "pygments_lexer": "ipython3",
   "version": "3.6.1"
  }
 },
 "nbformat": 4,
 "nbformat_minor": 2
}
